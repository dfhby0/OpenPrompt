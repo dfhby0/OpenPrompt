{
 "cells": [
  {
   "cell_type": "code",
   "execution_count": 1,
   "source": [
    "!source activate prompt"
   ],
   "outputs": [],
   "metadata": {}
  },
  {
   "cell_type": "markdown",
   "source": [
    "## Task define"
   ],
   "metadata": {}
  },
  {
   "cell_type": "code",
   "execution_count": null,
   "source": [
    "from openprompt.data_utils import InputExample\n",
    "classes = [ # There are two classes in Sentiment Analysis, one for negative and one for positive\n",
    "    \"negative\",\n",
    "    \"positive\"\n",
    "]\n",
    "dataset = [ # For simplicity, there's only two examples\n",
    "    # text_a is the input text of the data, some other datasets may have multiple input sentences in one example.\n",
    "    InputExample(\n",
    "        guid = 0,\n",
    "        text_a = \"Albert Einstein was one of the greatest intellects of his time.\",\n",
    "    ),\n",
    "    InputExample(\n",
    "        guid = 1,\n",
    "        text_a = \"The film was badly made.\",\n",
    "    ),\n",
    "]"
   ],
   "outputs": [],
   "metadata": {}
  },
  {
   "cell_type": "markdown",
   "source": [
    "## PLMs(Pre-trained longuage models)"
   ],
   "metadata": {}
  },
  {
   "cell_type": "code",
   "execution_count": null,
   "source": [
    "from openprompt.plms import get_model_class\n",
    "model_class = get_model_class(plm_type = \"bert\")\n",
    "model_path = \"bert-base-cased\" # huggingface\n",
    "bertConfig = model_class.config.from_pretrained(model_path)\n",
    "bertTokenizer = model_class.tokenizer.from_pretrained(model_path)\n",
    "bertModel = model_class.model.from_pretrained(model_path)"
   ],
   "outputs": [],
   "metadata": {}
  },
  {
   "cell_type": "markdown",
   "source": [
    "## Template"
   ],
   "metadata": {}
  },
  {
   "cell_type": "code",
   "execution_count": null,
   "source": [
    "from openprompt.prompts import ManualTemplate\n",
    "promptTemplate = ManualTemplate(\n",
    "    text = [\"<text_a>\", \"It\", \"was\", \"<mask>\"],\n",
    "    tokenizer = bertTokenizer,\n",
    ")"
   ],
   "outputs": [],
   "metadata": {}
  },
  {
   "cell_type": "markdown",
   "source": [
    "## Verbalizer"
   ],
   "metadata": {}
  },
  {
   "cell_type": "code",
   "execution_count": null,
   "source": [
    "from openprompt.prompts import ManualVerbalizer\n",
    "promptVerbalizer = ManualVerbalizer(\n",
    "    classes = classes,\n",
    "    label_words = {\n",
    "        \"negative\": [\"bad\"],\n",
    "        \"positive\": [\"good\", \"wonderful\", \"great\"],\n",
    "    },\n",
    "    tokenizer = bertTokenizer,\n",
    ")"
   ],
   "outputs": [],
   "metadata": {}
  },
  {
   "cell_type": "markdown",
   "source": [
    "## Prompt Model"
   ],
   "metadata": {}
  },
  {
   "cell_type": "code",
   "execution_count": null,
   "source": [
    "from openprompt import PromptForClassification\n",
    "promptModel = PromptForClassification(\n",
    "    template = promptTemplate,\n",
    "    model = bertModel,\n",
    "    verbalizer = promptVerbalizer,\n",
    ")"
   ],
   "outputs": [],
   "metadata": {}
  }
 ],
 "metadata": {
  "orig_nbformat": 4,
  "language_info": {
   "name": "python",
   "version": "3.8.11",
   "mimetype": "text/x-python",
   "codemirror_mode": {
    "name": "ipython",
    "version": 3
   },
   "pygments_lexer": "ipython3",
   "nbconvert_exporter": "python",
   "file_extension": ".py"
  },
  "kernelspec": {
   "name": "python3",
   "display_name": "Python 3.8.11 64-bit ('prompt': conda)"
  },
  "interpreter": {
   "hash": "b7ebb03698c1f30290bf119b7cfbb41ed204db7ee6e47857473ff9133b89e8db"
  }
 },
 "nbformat": 4,
 "nbformat_minor": 2
}