{
 "cells": [
  {
   "cell_type": "code",
   "execution_count": 1,
   "source": [
    "print('go')"
   ],
   "outputs": [
    {
     "output_type": "stream",
     "name": "stdout",
     "text": [
      "go\n"
     ]
    }
   ],
   "metadata": {}
  },
  {
   "cell_type": "code",
   "execution_count": 10,
   "source": [
    "from transformers import logging\n",
    "import tqdm, os\n",
    "import sys\n",
    "import json\n",
    "from openprompt.utils.logging import logger\n",
    "import torch\n",
    "import jsonlines"
   ],
   "outputs": [],
   "metadata": {}
  },
  {
   "cell_type": "code",
   "execution_count": 5,
   "source": [
    "from openprompt.plms import get_model_class\n",
    "model_class = get_model_class(plm_type = \"roberta\")\n",
    "model_path = \"roberta-large\"\n",
    "bertConfig = model_class.config.from_pretrained(model_path)\n",
    "bertTokenizer = model_class.tokenizer.from_pretrained(model_path)\n",
    "bertModel = model_class.model.from_pretrained(model_path)"
   ],
   "outputs": [
    {
     "output_type": "stream",
     "name": "stdout",
     "text": [
      "\n",
      "\n"
     ]
    }
   ],
   "metadata": {}
  },
  {
   "cell_type": "code",
   "execution_count": null,
   "source": [
    "from openprompt.data_utils import InputExample\n",
    "text = input_enter(\"text\")\n"
   ],
   "outputs": [],
   "metadata": {}
  },
  {
   "cell_type": "code",
   "execution_count": 11,
   "source": [
    "datadir = \"../datasets/RelationClassification/SemEval/\"\n",
    "dataset = []\n",
    "with open(datadir + 'train.jsonl','r+',encoding='utf8')as fp:\n",
    "    count = 0\n",
    "    for item in jsonlines.Reader(fp):\n",
    "        print(item)\n",
    "        dataset.append()\n",
    "        text = ' '.join(item['token'])\n",
    "        count += 1\n",
    "        if(count > 3):break"
   ],
   "outputs": [
    {
     "output_type": "stream",
     "name": "stdout",
     "text": [
      "{'token': ['the', 'original', 'play', 'was', 'filled', 'with', 'very', 'topical', 'humor', ',', 'so', 'the', 'director', 'felt', 'free', 'to', 'add', 'current', 'topical', 'humor', 'to', 'the', 'script', '.'], 'h': {'name': 'play', 'pos': [2, 3]}, 't': {'name': 'humor', 'pos': [8, 9]}, 'relation': 'Component-Whole(e2,e1)'}\n",
      "{'token': ['the', 'crane', 'arm', 'raises', ',', 'swivels', ',', 'and', 'extends', 'to', 'a', 'maximum', 'length', 'of', '11', \"''\", 'inches', ',', 'just', 'like', 'our', 'own', 'poe', 'ghostal', '.'], 'h': {'name': 'crane', 'pos': [1, 2]}, 't': {'name': 'arm', 'pos': [2, 3]}, 'relation': 'Component-Whole(e2,e1)'}\n",
      "{'token': ['the', 'factory', \"'s\", 'workshop', 'functioned', 'inside', 'an', 'extension', 'which', 'was', 'bigger', 'than', 'the', 'actual', 'residence', '.'], 'h': {'name': 'factory', 'pos': [1, 2]}, 't': {'name': 'workshop', 'pos': [3, 4]}, 'relation': 'Component-Whole(e2,e1)'}\n",
      "{'token': ['the', 'dolphin', 'uses', 'its', 'flukes', 'for', 'swimming', 'and', 'its', 'flippers', 'for', 'steering', '.'], 'h': {'name': 'dolphin', 'pos': [1, 2]}, 't': {'name': 'flukes', 'pos': [4, 5]}, 'relation': 'Component-Whole(e2,e1)'}\n"
     ]
    }
   ],
   "metadata": {}
  },
  {
   "cell_type": "code",
   "execution_count": 14,
   "source": [
    "' '.join(item['token'])"
   ],
   "outputs": [
    {
     "output_type": "execute_result",
     "data": {
      "text/plain": [
       "'the dolphin uses its flukes for swimming and its flippers for steering .'"
      ]
     },
     "metadata": {},
     "execution_count": 14
    }
   ],
   "metadata": {}
  },
  {
   "cell_type": "code",
   "execution_count": null,
   "source": [
    "'''\n",
    "Albert Einstein was one of the greatest intellects of his time.\n",
    "'''\n",
    "dataset = []\n",
    "for \n",
    "    InputExample(\n",
    "        guid = 0,\n",
    "        text_a = text,\n",
    "    )\n",
    "]\n",
    "\n",
    "template = input_enter(\"Prompt Template\")\n",
    "'''\n",
    "    <text_a> It is <mask>\n",
    "    <text_a> Albert Einstein is a <mask>\n",
    "    Albert Einstein was born in <mask>\n",
    "'''\n",
    "from openprompt.prompts import ManualTemplate\n",
    "template = ManualTemplate(\n",
    "    text = template.split(),\n",
    "    tokenizer = bertTokenizer,\n",
    ")\n"
   ],
   "outputs": [],
   "metadata": {}
  },
  {
   "cell_type": "code",
   "execution_count": null,
   "source": [
    "\n",
    "# define task\n",
    "verbalizer = \"Entity Verbalizer\"\n",
    "classes = None\n",
    "\n",
    "# different task use different verbalizer label words\n",
    "if verbalizer == 'Knowledge Probing':\n",
    "    verbalizer = None\n",
    "    classes = {v:k for k,v in bertTokenizer.get_vocab().items()}\n",
    "else:\n",
    "    label_words = None\n",
    "    if verbalizer == \n",
    "        label_words = {\n",
    "            \"location-bodiesofwater\": [\"water\"],\n",
    "            \"other-law\": [\"law\"],\n",
    "            \"art-broadcastprogram\": [\"broadcast\", \"program\"],\n",
    "            \"organization-media/newspaper\": [\"media\", \"newspaper\"],\n",
    "            \"building-restaurant\": [\"restaurant\"],\n",
    "            \"person-artist/author\": [\"artist\", \"author\"],\n",
    "            \"art-film\": [\"film\"],\n",
    "            \"other-award\": [\"award\"],\n",
    "            \"location-park\": [\"park\"],\n",
    "            \"event-other\": [\"event\"],\n",
    "            \"organization-government/governmentagency\": [\"government\", \"agency\"],\n",
    "            \"person-other\": [\"person\"],\n",
    "            \"other-educationaldegree\": [\"educational\", \"degree\"],\n",
    "            \"organization-education\": [\"education\"],\n",
    "            \"person-director\": [\"director\"],\n",
    "            \"product-game\": [\"game\"],\n",
    "            \"building-sportsfacility\": [\"sports\", \"facility\"],\n",
    "            \"event-protest\": [\"protest\"],\n",
    "            \"product-car\": [\"car\"],\n",
    "            \"other-language\": [\"language\"],\n",
    "            \"building-airport\": [\"airport\"],\n",
    "            \"organization-other\": [\"organization\"],\n",
    "            \"building-other\": [\"building\"],\n",
    "            \"location-other\": [\"location\"],\n",
    "            \"person-athlete\": [\"athlete\"],\n",
    "            \"organization-showorganization\": [\"show\", \"organization\"],\n",
    "            \"organization-sportsleague\": [\"sports\", \"league\"],\n",
    "            \"location-GPE\": [\"geopolitical\"],\n",
    "            \"person-scholar\": [\"scholar\", \"scientist\"],\n",
    "            \"building-library\": [\"library\"],\n",
    "            \"building-hotel\": [\"hotel\"],\n",
    "            \"location-road/railway/highway/transit\": [\"road\", \"railway\", \"highway\", \"transit\"],\n",
    "            \"art-painting\": [\"painting\"],\n",
    "            \"building-hospital\": [\"hospital\"],\n",
    "            \"event-election\": [\"election\"],\n",
    "            \"art-writtenart\": [\"written\", \"art\"],\n",
    "            \"organization-religion\": [\"religion\"],\n",
    "            \"organization-company\": [\"company\"],\n",
    "            \"product-train\": [\"train\"],\n",
    "            \"product-ship\": [\"ship\"],\n",
    "            \"event-attack/battle/war/militaryconflict\": [\"attack\", \"battle\", \"war\", \"military\", \"conflict\"],\n",
    "            \"event-sportsevent\": [\"sports\", \"event\"],\n",
    "            \"event-disaster\": [\"disaster\"],\n",
    "            \"other-currency\": [\"currency\"],\n",
    "            \"product-weapon\": [\"weapon\"],\n",
    "            \"other-livingthing\": [\"living\"],\n",
    "            \"organization-sportsteam\": [\"sports\", \"team\"],\n",
    "            \"person-politician\": [\"politician\"],\n",
    "            \"other-god\": [\"god\"],\n",
    "            \"organization-politicalparty\": [\"political\", \"party\"],\n",
    "            \"art-music\": [\"music\"],\n",
    "            \"art-other\": [\"art\"],\n",
    "            \"person-actor\": [\"actor\"],\n",
    "            \"building-theater\": [\"theater\"],\n",
    "            \"other-biologything\": [\"biology\"],\n",
    "            \"product-software\": [\"software\"],\n",
    "            \"location-island\": [\"island\"],\n",
    "            \"other-medical\": [\"medical\"],\n",
    "            \"other-disease\": [\"disease\"],\n",
    "            \"other-chemicalthing\": [\"chemical\"],\n",
    "            \"product-other\": [\"product\"],\n",
    "            \"product-airplane\": [\"airplane\"],\n",
    "            \"product-food\": [\"food\"],\n",
    "            \"location-mountain\": [\"mountain\"],\n",
    "            \"other-astronomything\": [\"astronomy\"],\n",
    "            \"person-soldier\": [\"soldier\"],\n",
    "        }\n",
    "    elif verbalizer == \"Sentiment Verbalizer\":\n",
    "        label_words = {\n",
    "            \"positive\": [\"great\", \"wonderful\", \"well\", \"good\", \"nice\"],\n",
    "            \"negative\": [\"bad\", \"terrible\", \"ugly\", \"horrible\"]\n",
    "        },\n",
    "    elif verbalizer == \"Customize\":\n",
    "        label_words = json.loads(input(\">>> \"))\n",
    "    classes = list(label_words.keys())\n",
    "\n",
    "from openprompt.prompts import ManualVerbalizer\n",
    "verbalizer = ManualVerbalizer(\n",
    "    classes = classes,\n",
    "    label_words = label_words,\n",
    "    tokenizer = bertTokenizer\n",
    ")\n",
    "\n",
    "progress_print(f\"Incorporating {color('Template')} and {color('Verbalizer')} into a {color('PromptModel')}\")\n"
   ],
   "outputs": [],
   "metadata": {}
  },
  {
   "cell_type": "code",
   "execution_count": null,
   "source": [
    "from openprompt import PromptForClassification\n",
    "prompt_model = PromptForClassification(\n",
    "    template = template,\n",
    "    model = bertModel,\n",
    "    verbalizer = verbalizer,\n",
    ").to(\"cuda:0\")\n",
    "\n",
    "progress_print(\"Predicting\")\n",
    "print()\n"
   ],
   "outputs": [],
   "metadata": {}
  },
  {
   "cell_type": "code",
   "execution_count": null,
   "source": [
    "\n",
    "from openprompt import PromptDataLoader\n",
    "data_loader = PromptDataLoader(\n",
    "    dataset = dataset,\n",
    "    tokenizer = bertTokenizer, \n",
    "    template = template, \n",
    ")\n"
   ],
   "outputs": [],
   "metadata": {}
  },
  {
   "cell_type": "code",
   "execution_count": null,
   "source": [
    "\n",
    "prompt_model.eval()\n",
    "with torch.no_grad():\n",
    "    for batch in data_loader:\n",
    "        batch = batch.to(\"cuda:0\").to_dict()\n",
    "        if verbalizer is None:\n",
    "            logits = prompt_model.forward_without_verbalize(batch)\n",
    "        else:\n",
    "            logits = prompt_model(batch)\n",
    "        pred = torch.argmax(logits, dim=-1)\n",
    "        pred = pred.cpu().tolist()\n",
    "\n",
    "if verbalizer == None:\n",
    "    print(f\"{color('Predicition')}: \", bertTokenizer.convert_tokens_to_string(bertTokenizer.convert_ids_to_tokens(pred)[0]))\n",
    "else:\n",
    "    print(f\"{color('Predicition')}: \", classes[pred[0]], f\"(triggered by label words: {label_words[classes[pred[0]]]})\")\n",
    "\n",
    "print()\n",
    "print()"
   ],
   "outputs": [],
   "metadata": {}
  }
 ],
 "metadata": {
  "orig_nbformat": 4,
  "language_info": {
   "name": "python",
   "version": "3.8.11",
   "mimetype": "text/x-python",
   "codemirror_mode": {
    "name": "ipython",
    "version": 3
   },
   "pygments_lexer": "ipython3",
   "nbconvert_exporter": "python",
   "file_extension": ".py"
  },
  "kernelspec": {
   "name": "python3",
   "display_name": "Python 3.8.11 64-bit ('prompt': conda)"
  },
  "interpreter": {
   "hash": "b7ebb03698c1f30290bf119b7cfbb41ed204db7ee6e47857473ff9133b89e8db"
  }
 },
 "nbformat": 4,
 "nbformat_minor": 2
}